{
 "cells": [
  {
   "cell_type": "markdown",
   "id": "e162911a",
   "metadata": {},
   "source": [
    "# One-dimensional discrete random walk"
   ]
  },
  {
   "cell_type": "code",
   "execution_count": 30,
   "id": "c9043362",
   "metadata": {},
   "outputs": [],
   "source": [
    "import numpy as np\n",
    "import numpy.random as rng\n",
    "import matplotlib.pyplot as plt"
   ]
  },
  {
   "cell_type": "markdown",
   "id": "58e9e5de",
   "metadata": {},
   "source": [
    "This simple code produces the time series for a one-dimensional random walk.\n",
    "<br>\n",
    "You can change the initial condition and the number of iterations in the following cell:"
   ]
  },
  {
   "cell_type": "code",
   "execution_count": 31,
   "id": "93e83ec9",
   "metadata": {},
   "outputs": [],
   "source": [
    "# Initial position and number of iterations\n",
    "X0 = 0\n",
    "N = 100"
   ]
  },
  {
   "cell_type": "code",
   "execution_count": 32,
   "id": "7eb3ecc7",
   "metadata": {},
   "outputs": [],
   "source": [
    "# Auxillary functions to generate n random (-1,+1) flips and to sum them to obtain the time series of a random walk\n",
    "rand_flip = lambda n : 2*rng.randint(2, size=n)-1\n",
    "gen_random_walk = lambda n, x0 : np.cumsum( np.concatenate(([x0,],rand_flip(N))) )"
   ]
  },
  {
   "cell_type": "markdown",
   "id": "1099d948",
   "metadata": {},
   "source": [
    "To generate a new random walk, just run the following cell.\n",
    "<br>\n",
    "No need to re-run the whole notebook!"
   ]
  },
  {
   "cell_type": "code",
   "execution_count": 33,
   "id": "3ab937f9",
   "metadata": {},
   "outputs": [
    {
     "name": "stdout",
     "output_type": "stream",
     "text": [
      "X(N) = -2\n"
     ]
    }
   ],
   "source": [
    "# Generate a random walk\n",
    "random_walk = gen_random_walk(N, X0)\n",
    "print(\"X(N) = \"+str(random_walk[-1]))"
   ]
  },
  {
   "cell_type": "code",
   "execution_count": 34,
   "id": "1335ee6b",
   "metadata": {},
   "outputs": [
    {
     "data": {
      "image/png": "[encoded data removed]",
      "text/plain": [
       "<Figure size 432x288 with 1 Axes>"
      ]
     },
     "metadata": {
      "needs_background": "light"
     },
     "output_type": "display_data"
    }
   ],
   "source": [
    "# Plot the random walk time-series\n",
    "plt.step(range(0,N+1), random_walk, 'b-')\n",
    "plt.plot([0,N+1], [X0,X0], 'k--')\n",
    "plt.xlim([0, N])\n",
    "plt.title(\"N=\"+str(N))\n",
    "plt.xlabel(\"N\")\n",
    "plt.ylabel(\"x\")\n",
    "plt.show()"
   ]
  }
 ],
 "metadata": {
  "kernelspec": {
   "display_name": "Python 3",
   "language": "python",
   "name": "python3"
  },
  "language_info": {
   "codemirror_mode": {
    "name": "ipython",
    "version": 3
   },
   "file_extension": ".py",
   "mimetype": "text/x-python",
   "name": "python",
   "nbconvert_exporter": "python",
   "pygments_lexer": "ipython3",
   "version": "3.6.9"
  }
 },
 "nbformat": 4,
 "nbformat_minor": 5
}
